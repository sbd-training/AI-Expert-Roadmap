{
  "nbformat": 4,
  "nbformat_minor": 0,
  "metadata": {
    "colab": {
      "name": "RNN with Keras.ipynb",
      "provenance": [],
      "collapsed_sections": [],
      "authorship_tag": "ABX9TyNyTA5PfExbQUqBlq6dXTlP",
      "include_colab_link": true
    },
    "kernelspec": {
      "name": "python3",
      "display_name": "Python 3"
    },
    "language_info": {
      "name": "python"
    }
  },
  "cells": [
    {
      "cell_type": "markdown",
      "metadata": {
        "id": "view-in-github",
        "colab_type": "text"
      },
      "source": [
        "<a href=\"https://colab.research.google.com/github/suzam26/AI-Expert-Roadmap/blob/main/RNN_with_Keras.ipynb\" target=\"_parent\"><img src=\"https://colab.research.google.com/assets/colab-badge.svg\" alt=\"Open In Colab\"/></a>"
      ]
    },
    {
      "cell_type": "markdown",
      "source": [
        "# RNN with Keras"
      ],
      "metadata": {
        "id": "bgeJLhvmw-n1"
      }
    },
    {
      "cell_type": "markdown",
      "source": [
        "This section makes use of the Nigeria power consumption univariate timeseries dataset to implement a LSTM Recurrent Neural Network."
      ],
      "metadata": {
        "id": "faOKFUbexE7q"
      }
    },
    {
      "cell_type": "code",
      "execution_count": null,
      "metadata": {
        "colab": {
          "base_uri": "https://localhost:8080/"
        },
        "id": "68Uyxgpuw59l",
        "outputId": "9db58440-5d18-45d4-875b-9df0e520d360"
      },
      "outputs": [
        {
          "output_type": "stream",
          "name": "stderr",
          "text": [
            "/usr/local/lib/python3.7/dist-packages/ipykernel_launcher.py:11: FutureWarning: The pandas.datetime class is deprecated and will be removed from pandas in a future version. Import from datetime module instead.\n",
            "  # This is added back by InteractiveShellApp.init_path()\n"
          ]
        },
        {
          "output_type": "stream",
          "name": "stdout",
          "text": [
            "Model: \"sequential\"\n",
            "_________________________________________________________________\n",
            " Layer (type)                Output Shape              Param #   \n",
            "=================================================================\n",
            " lstm (LSTM)                 (None, 20, 128)           66560     \n",
            "                                                                 \n",
            " dense (Dense)               (None, 20, 1)             129       \n",
            "                                                                 \n",
            "=================================================================\n",
            "Total params: 66,689\n",
            "Trainable params: 66,689\n",
            "Non-trainable params: 0\n",
            "_________________________________________________________________\n"
          ]
        }
      ],
      "source": [
        "import tensorflow as tf\n",
        "import pandas as pd\n",
        "import matplotlib.pyplot as plt\n",
        "import numpy as np\n",
        "from sklearn.model_selection import train_test_split\n",
        "from sklearn.preprocessing import MinMaxScaler\n",
        "\n",
        "# data url\n",
        "url = \"/content/nigeria-power-consumption.csv\"\n",
        "\n",
        "# load data\n",
        "parse_date = lambda dates: pd.datetime.strptime(dates, '%d-%m')\n",
        "data = pd.read_csv(url, parse_dates=['Month'], index_col='Month',\n",
        "                   date_parser=parse_date,\n",
        "                   engine='python', skipfooter=2)\n",
        "\n",
        "# print column name\n",
        "data.columns\n",
        "\n",
        "# change column names\n",
        "data.rename(columns={'Nigeria power consumption': 'power-consumption'},\n",
        "            inplace=True)\n",
        "\n",
        "# split in training and evaluation set\n",
        "data_train, data_eval = train_test_split(data, test_size=0.2, shuffle=False)\n",
        "\n",
        "# MinMaxScaler - center ans scale the dataset\n",
        "scaler = MinMaxScaler(feature_range=(0, 1))\n",
        "data_train = scaler.fit_transform(data_train)\n",
        "data_eval = scaler.fit_transform(data_eval)\n",
        "\n",
        "# adjust univariate data for timeseries prediction\n",
        "def convert_to_sequences(data, sequence, is_target=False):\n",
        "    temp_df = []\n",
        "    for i in range(len(data) - sequence):\n",
        "        if is_target:\n",
        "            temp_df.append(data[(i+1): (i+1) + sequence])\n",
        "        else:\n",
        "            temp_df.append(data[i: i + sequence])\n",
        "    return np.array(temp_df)\n",
        "\n",
        "# parameters\n",
        "time_steps = 20\n",
        "inputs = 1\n",
        "neurons = 100\n",
        "outputs = 1\n",
        "batch_size = 32\n",
        "\n",
        "# create training and testing data\n",
        "train_x = convert_to_sequences(data_train, time_steps, is_target=False)\n",
        "train_y = convert_to_sequences(data_train, time_steps, is_target=True)\n",
        "\n",
        "eval_x = convert_to_sequences(data_eval, time_steps, is_target=False)\n",
        "eval_y = convert_to_sequences(data_eval, time_steps, is_target=True)\n",
        "\n",
        "# Build model\n",
        "model = tf.keras.Sequential()\n",
        "model.add(tf.keras.layers.LSTM(128, dropout=0.2, recurrent_dropout=0.2,\n",
        "                               input_shape=train_x.shape[1:],\n",
        "                               return_sequences=True))\n",
        "model.add(tf.keras.layers.Dense(1))\n",
        "\n",
        "# Compile the model\n",
        "model.compile(loss='mean_squared_error',\n",
        "              optimizer='adam',\n",
        "              metrics=['mse'])\n",
        "\n",
        "# print model summary\n",
        "model.summary()"
      ]
    },
    {
      "cell_type": "code",
      "source": [
        "# Train the model\n",
        "history = model.fit(train_x, train_y,\n",
        "                    batch_size=batch_size,\n",
        "                    epochs=20, shuffle=False,\n",
        "                    validation_data=(eval_x, eval_y))"
      ],
      "metadata": {
        "colab": {
          "base_uri": "https://localhost:8080/"
        },
        "id": "NGt2tdoY1BCZ",
        "outputId": "0d22d346-a75c-4cf1-f6c7-7b4f75cb3d64"
      },
      "execution_count": null,
      "outputs": [
        {
          "output_type": "stream",
          "name": "stdout",
          "text": [
            "Epoch 1/20\n",
            "3/3 [==============================] - 3s 242ms/step - loss: 0.1333 - mse: 0.1333 - val_loss: 0.1469 - val_mse: 0.1469\n",
            "Epoch 2/20\n",
            "3/3 [==============================] - 0s 56ms/step - loss: 0.0697 - mse: 0.0697 - val_loss: 0.0784 - val_mse: 0.0784\n",
            "Epoch 3/20\n",
            "3/3 [==============================] - 0s 55ms/step - loss: 0.0299 - mse: 0.0299 - val_loss: 0.0325 - val_mse: 0.0325\n",
            "Epoch 4/20\n",
            "3/3 [==============================] - 0s 63ms/step - loss: 0.0214 - mse: 0.0214 - val_loss: 0.0199 - val_mse: 0.0199\n",
            "Epoch 5/20\n",
            "3/3 [==============================] - 0s 55ms/step - loss: 0.0336 - mse: 0.0336 - val_loss: 0.0193 - val_mse: 0.0193\n",
            "Epoch 6/20\n",
            "3/3 [==============================] - 0s 60ms/step - loss: 0.0256 - mse: 0.0256 - val_loss: 0.0232 - val_mse: 0.0232\n",
            "Epoch 7/20\n",
            "3/3 [==============================] - 0s 56ms/step - loss: 0.0205 - mse: 0.0205 - val_loss: 0.0301 - val_mse: 0.0301\n",
            "Epoch 8/20\n",
            "3/3 [==============================] - 0s 56ms/step - loss: 0.0180 - mse: 0.0180 - val_loss: 0.0335 - val_mse: 0.0335\n",
            "Epoch 9/20\n",
            "3/3 [==============================] - 0s 55ms/step - loss: 0.0190 - mse: 0.0190 - val_loss: 0.0322 - val_mse: 0.0322\n",
            "Epoch 10/20\n",
            "3/3 [==============================] - 0s 54ms/step - loss: 0.0172 - mse: 0.0172 - val_loss: 0.0279 - val_mse: 0.0279\n",
            "Epoch 11/20\n",
            "3/3 [==============================] - 0s 54ms/step - loss: 0.0170 - mse: 0.0170 - val_loss: 0.0237 - val_mse: 0.0237\n",
            "Epoch 12/20\n",
            "3/3 [==============================] - 0s 65ms/step - loss: 0.0162 - mse: 0.0162 - val_loss: 0.0211 - val_mse: 0.0211\n",
            "Epoch 13/20\n",
            "3/3 [==============================] - 0s 54ms/step - loss: 0.0162 - mse: 0.0162 - val_loss: 0.0205 - val_mse: 0.0205\n",
            "Epoch 14/20\n",
            "3/3 [==============================] - 0s 55ms/step - loss: 0.0163 - mse: 0.0163 - val_loss: 0.0211 - val_mse: 0.0211\n",
            "Epoch 15/20\n",
            "3/3 [==============================] - 0s 53ms/step - loss: 0.0160 - mse: 0.0160 - val_loss: 0.0223 - val_mse: 0.0223\n",
            "Epoch 16/20\n",
            "3/3 [==============================] - 0s 55ms/step - loss: 0.0158 - mse: 0.0158 - val_loss: 0.0238 - val_mse: 0.0238\n",
            "Epoch 17/20\n",
            "3/3 [==============================] - 0s 55ms/step - loss: 0.0159 - mse: 0.0159 - val_loss: 0.0248 - val_mse: 0.0248\n",
            "Epoch 18/20\n",
            "3/3 [==============================] - 0s 57ms/step - loss: 0.0140 - mse: 0.0140 - val_loss: 0.0252 - val_mse: 0.0252\n",
            "Epoch 19/20\n",
            "3/3 [==============================] - 0s 55ms/step - loss: 0.0129 - mse: 0.0129 - val_loss: 0.0253 - val_mse: 0.0253\n",
            "Epoch 20/20\n",
            "3/3 [==============================] - 0s 53ms/step - loss: 0.0137 - mse: 0.0137 - val_loss: 0.0250 - val_mse: 0.0250\n"
          ]
        }
      ]
    },
    {
      "cell_type": "code",
      "source": [
        "loss, mse = model.evaluate(eval_x, eval_y, batch_size=batch_size)\n",
        "print('Test loss: {:.4f}'.format(loss))\n",
        "print('Test mse: {:.4f}'.format(mse))\n",
        "\n",
        "# predict\n",
        "y_pred = model.predict(eval_x)\n",
        "\n",
        "# plot predicted sequence\n",
        "plt.title(\"Model Testing\", fontsize=12)\n",
        "plt.plot(eval_x[0,:,0], \"b--\", markersize=10, label=\"training instance\")\n",
        "plt.plot(eval_y[0,:,0], \"g--\", markersize=10, label=\"targets\")\n",
        "plt.plot(y_pred[0,:,0], \"r--\", markersize=10, label=\"model prediction\")\n",
        "plt.legend(loc=\"upper left\")\n",
        "plt.xlabel(\"Time\")"
      ],
      "metadata": {
        "colab": {
          "base_uri": "https://localhost:8080/",
          "height": 364
        },
        "id": "MVD3RTiL1BwY",
        "outputId": "f2985926-09f6-4bbc-cd4e-fa9b484bc0e8"
      },
      "execution_count": null,
      "outputs": [
        {
          "output_type": "stream",
          "name": "stdout",
          "text": [
            "1/1 [==============================] - 0s 26ms/step - loss: 0.0250 - mse: 0.0250\n",
            "Test loss: 0.0250\n",
            "Test mse: 0.0250\n"
          ]
        },
        {
          "output_type": "execute_result",
          "data": {
            "text/plain": [
              "Text(0.5, 0, 'Time')"
            ]
          },
          "metadata": {},
          "execution_count": 8
        },
        {
          "output_type": "display_data",
          "data": {
            "image/png": "[encoded data removed]",
            "text/plain": [
              "<Figure size 432x288 with 1 Axes>"
            ]
          },
          "metadata": {
            "needs_background": "light"
          }
        }
      ]
    },
    {
      "cell_type": "markdown",
      "source": [
        "From the Keras LSTM code listing, the method tf.keras.layers.LSTM() is used to implement the LSTM recurrent layer. The attribute return_sequences is set to True to return the full sequence in the output sequence."
      ],
      "metadata": {
        "id": "aqbBLIlL1Mf-"
      }
    }
  ]
}