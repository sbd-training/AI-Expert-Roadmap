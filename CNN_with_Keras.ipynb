{
  "nbformat": 4,
  "nbformat_minor": 0,
  "metadata": {
    "colab": {
      "name": "CNN with Keras.ipynb",
      "provenance": [],
      "collapsed_sections": [],
      "toc_visible": true,
      "authorship_tag": "ABX9TyMh2uUvqjMlbLCnxaI5FRbE",
      "include_colab_link": true
    },
    "kernelspec": {
      "name": "python3",
      "display_name": "Python 3"
    },
    "language_info": {
      "name": "python"
    }
  },
  "cells": [
    {
      "cell_type": "markdown",
      "metadata": {
        "id": "view-in-github",
        "colab_type": "text"
      },
      "source": [
        "<a href=\"https://colab.research.google.com/github/suzam26/AI-Expert-Roadmap/blob/main/CNN_with_Keras.ipynb\" target=\"_parent\"><img src=\"https://colab.research.google.com/assets/colab-badge.svg\" alt=\"Open In Colab\"/></a>"
      ]
    },
    {
      "cell_type": "markdown",
      "source": [
        "# Convolutional Neural Networks with Keras"
      ],
      "metadata": {
        "id": "UVZaQ3aikFhg"
      }
    },
    {
      "cell_type": "markdown",
      "source": [
        "In this section, we use Keras to implement a Convolutional Neural Network. The network architecture consists of the following layers:\n",
        "\n",
        "* Convolution layer: kernel_size => [5 x 5]\n",
        "* Convolution layer: kernel_size => [5 x 5]\n",
        "* Batch Normalization layer\n",
        "* Convolution layer: kernel_size => [5 x 5]\n",
        "* Max pooling: pool size => [2 x 2]\n",
        "* Convolution layer: kernel_size => [5 x 5]\n",
        "* Convolution layer: kernel_size => [5 x 5]\n",
        "* Batch Normalization layer\n",
        "* Max pooling: pool size => [2 x 2]\n",
        "* Convolution layer: kernel_size => [5 x 5]\n",
        "* Convolution layer: kernel_size => [5 x 5]\n",
        "* Convolution layer: kernel_size => [5 x 5]\n",
        "* Max pooling: pool size => [2 x 2]\n",
        "* Dropout layer\n",
        "* Dense Layer: units => [512]\n",
        "* Dense Layer: units => [256]\n",
        "* Dropout layer\n",
        "* Dense Layer: units => [10]\n",
        "\n",
        "\n",
        "\n"
      ],
      "metadata": {
        "id": "TN2mkwNJkAr5"
      }
    },
    {
      "cell_type": "code",
      "execution_count": null,
      "metadata": {
        "colab": {
          "base_uri": "https://localhost:8080/"
        },
        "id": "kpo251btj-r1",
        "outputId": "ca6541d9-8ff1-4f5c-963d-9d737c8f90ae"
      },
      "outputs": [
        {
          "output_type": "stream",
          "name": "stdout",
          "text": [
            "Downloading data from https://www.cs.toronto.edu/~kriz/cifar-10-python.tar.gz\n",
            "170500096/170498071 [==============================] - 2s 0us/step\n",
            "170508288/170498071 [==============================] - 2s 0us/step\n",
            "Model: \"model\"\n",
            "_________________________________________________________________\n",
            " Layer (type)                Output Shape              Param #   \n",
            "=================================================================\n",
            " input_1 (InputLayer)        [(100, 32, 32, 3)]        0         \n",
            "                                                                 \n",
            " conv2d (Conv2D)             (100, 32, 32, 64)         4864      \n",
            "                                                                 \n",
            " conv2d_1 (Conv2D)           (100, 32, 32, 64)         102464    \n",
            "                                                                 \n",
            " batch_normalization (BatchN  (100, 32, 32, 64)        256       \n",
            " ormalization)                                                   \n",
            "                                                                 \n",
            " conv2d_2 (Conv2D)           (100, 32, 32, 64)         102464    \n",
            "                                                                 \n",
            " max_pooling2d (MaxPooling2D  (100, 16, 16, 64)        0         \n",
            " )                                                               \n",
            "                                                                 \n",
            " conv2d_3 (Conv2D)           (100, 16, 16, 64)         102464    \n",
            "                                                                 \n",
            " conv2d_4 (Conv2D)           (100, 16, 16, 64)         102464    \n",
            "                                                                 \n",
            " batch_normalization_1 (Batc  (100, 16, 16, 64)        256       \n",
            " hNormalization)                                                 \n",
            "                                                                 \n",
            " max_pooling2d_1 (MaxPooling  (100, 8, 8, 64)          0         \n",
            " 2D)                                                             \n",
            "                                                                 \n",
            " conv2d_5 (Conv2D)           (100, 8, 8, 32)           18464     \n",
            "                                                                 \n",
            " conv2d_6 (Conv2D)           (100, 8, 8, 32)           9248      \n",
            "                                                                 \n",
            " conv2d_7 (Conv2D)           (100, 8, 8, 32)           9248      \n",
            "                                                                 \n",
            " max_pooling2d_2 (MaxPooling  (100, 4, 4, 32)          0         \n",
            " 2D)                                                             \n",
            "                                                                 \n",
            " dropout (Dropout)           (100, 4, 4, 32)           0         \n",
            "                                                                 \n",
            " flatten (Flatten)           (100, 512)                0         \n",
            "                                                                 \n",
            " dense (Dense)               (100, 512)                262656    \n",
            "                                                                 \n",
            " dense_1 (Dense)             (100, 256)                131328    \n",
            "                                                                 \n",
            " dropout_1 (Dropout)         (100, 256)                0         \n",
            "                                                                 \n",
            " dense_2 (Dense)             (100, 10)                 2570      \n",
            "                                                                 \n",
            "=================================================================\n",
            "Total params: 848,746\n",
            "Trainable params: 848,490\n",
            "Non-trainable params: 256\n",
            "_________________________________________________________________\n"
          ]
        }
      ],
      "source": [
        "# setup\n",
        "import tensorflow as tf\n",
        "import numpy as np\n",
        "import matplotlib.pyplot as plt\n",
        "\n",
        "# import dataset\n",
        "(x_train, y_train), (x_test, y_test) = tf.keras.datasets.cifar10.load_data()\n",
        "\n",
        "#\n",
        "\n",
        "# change datatype to float\n",
        "x_train = x_train.astype('float32')\n",
        "x_test = x_test.astype('float32')\n",
        "\n",
        "y_train.astype('float32')\n",
        "y_test.astype('float32')\n",
        "\n",
        "# scale the dataset from 0 -> 255 to 0 -> 1\n",
        "x_train /= 255\n",
        "x_test /= 255\n",
        "\n",
        "\n",
        "x_train = np.array(x_train,dtype='float32')\n",
        "x_test = np.array(x_test,dtype='float32')\n",
        "y_train = np.array(y_train,dtype='float32')\n",
        "y_test = np.array(y_test,dtype='float32')\n",
        "\n",
        "\n",
        "# one-hot encode targets\n",
        "y_train = tf.keras.utils.to_categorical(y_train)\n",
        "y_test = tf.keras.utils.to_categorical(y_test)\n",
        "\n",
        "# create dataset pipeline\n",
        "def input_fn(features, labels, batch_size, training=True):\n",
        "    dataset = tf.data.Dataset.from_tensor_slices((features, labels))\n",
        "    if training:\n",
        "        dataset = dataset.shuffle(buffer_size=1000)\n",
        "        dataset = dataset.repeat()\n",
        "    dataset = dataset.batch(batch_size)\n",
        "    iterator = iter(dataset)\n",
        "    features, labels = iterator.get_next()    \n",
        "    return features, labels\n",
        "\n",
        "# parameters\n",
        "batch_size = 100\n",
        "training_steps_per_epoch = int(np.ceil(x_train.shape[0] / float(batch_size)))  # ==> 600\n",
        "eval_steps_per_epoch = int(np.ceil(x_test.shape[0] / float(batch_size)))  # ==> 100\n",
        "epochs = 10\n",
        "\n",
        "# create the model\n",
        "def model_fn(input_fn):\n",
        "    \n",
        "    (features, labels) = input_fn\n",
        "    \n",
        "    # Model input\n",
        "    model_input = tf.keras.layers.Input(tensor=features)\n",
        "    x = tf.keras.layers.Conv2D(64, (5, 5), padding='same', activation='relu')(model_input)\n",
        "    x = tf.keras.layers.Conv2D(64, (5, 5), padding='same', activation='relu')(x)\n",
        "    x = tf.keras.layers.BatchNormalization()(x)\n",
        "    x = tf.keras.layers.Conv2D(64, (5, 5), padding='same', activation='relu')(x)\n",
        "    x = tf.keras.layers.MaxPooling2D(pool_size=(2, 2), strides=2, padding='same')(x)\n",
        "    x = tf.keras.layers.Conv2D(64, (5, 5), padding='same', activation='relu')(x)\n",
        "    x = tf.keras.layers.Conv2D(64, (5, 5), padding='same', activation='relu')(x)\n",
        "    x = tf.keras.layers.BatchNormalization()(x)\n",
        "    x = tf.keras.layers.MaxPooling2D(pool_size=(2, 2), strides=2, padding='same')(x)\n",
        "    x = tf.keras.layers.Conv2D(32, (3, 3), padding='same', activation='relu')(x)\n",
        "    x = tf.keras.layers.Conv2D(32, (3, 3), padding='same', activation='relu')(x)\n",
        "    x = tf.keras.layers.Conv2D(32, (3, 3), padding='same', activation='relu')(x)\n",
        "    x = tf.keras.layers.MaxPooling2D(pool_size=(2, 2), strides=2, padding='same')(x)\n",
        "    x = tf.keras.layers.Dropout(0.3)(x)\n",
        "    x = tf.keras.layers.Flatten()(x)\n",
        "    x = tf.keras.layers.Dense(512, activation='relu')(x)\n",
        "    x = tf.keras.layers.Dense(256, activation='relu')(x)\n",
        "    x = tf.keras.layers.Dropout(0.5)(x)\n",
        "    output = tf.keras.layers.Dense(10, activation='softmax')(x)\n",
        "    \n",
        "    # the model\n",
        "    model = tf.keras.Model(inputs=model_input, outputs=output)\n",
        "    \n",
        "    # compile the model\n",
        "    model.compile(optimizer=tf.keras.optimizers.Nadam(),\n",
        "                  loss='categorical_crossentropy',\n",
        "                  metrics=['accuracy'])\n",
        "    return model\n",
        "\n",
        "# build train model\n",
        "model = model_fn(input_fn(x_train, y_train, batch_size=batch_size, training=True))\n",
        "\n",
        "# print train model summary\n",
        "model.summary()\n"
      ]
    },
    {
      "cell_type": "code",
      "source": [
        "# train the model\n",
        "history = model.fit(x=x_train,y=y_train,epochs=epochs,steps_per_epoch=training_steps_per_epoch)"
      ],
      "metadata": {
        "colab": {
          "base_uri": "https://localhost:8080/"
        },
        "id": "JhTQwSq6qahJ",
        "outputId": "ee5fc0c2-7050-493d-ad90-25a63d0135db"
      },
      "execution_count": null,
      "outputs": [
        {
          "output_type": "stream",
          "name": "stdout",
          "text": [
            "Epoch 1/10\n",
            "500/500 [==============================] - 2048s 4s/step - loss: 1.6253 - accuracy: 0.4017\n",
            "Epoch 2/10\n",
            "500/500 [==============================] - 1995s 4s/step - loss: 1.1749 - accuracy: 0.5825\n",
            "Epoch 3/10\n",
            "500/500 [==============================] - 2098s 4s/step - loss: 0.9510 - accuracy: 0.6669\n",
            "Epoch 4/10\n",
            "500/500 [==============================] - 2095s 4s/step - loss: 0.8200 - accuracy: 0.7157\n",
            "Epoch 5/10\n",
            "500/500 [==============================] - 2050s 4s/step - loss: 0.7313 - accuracy: 0.7501\n",
            "Epoch 6/10\n",
            "500/500 [==============================] - 1982s 4s/step - loss: 0.6700 - accuracy: 0.7709\n",
            "Epoch 7/10\n",
            "500/500 [==============================] - 2014s 4s/step - loss: 0.6120 - accuracy: 0.7916\n",
            "Epoch 8/10\n",
            "500/500 [==============================] - 1987s 4s/step - loss: 0.5620 - accuracy: 0.8078\n",
            "Epoch 9/10\n",
            "500/500 [==============================] - 2023s 4s/step - loss: 0.5223 - accuracy: 0.8201\n",
            "Epoch 10/10\n",
            "500/500 [==============================] - 2017s 4s/step - loss: 0.4869 - accuracy: 0.8319\n"
          ]
        }
      ]
    },
    {
      "cell_type": "code",
      "source": [
        "# store trained model weights\n",
        "model.save_weights('./tmp/cnn_weight.h5')\n",
        "\n",
        "# build evaluation model\n",
        "eval_model = model_fn(input_fn(x_test, y_test, batch_size=batch_size, training=False))\n",
        "eval_model.load_weights('./tmp/cnn_weight.h5')\n",
        "\n",
        "# evaluate the model\n",
        "score = eval_model.evaluate(steps=eval_steps_per_epoch)\n",
        "print('Test loss: {:.2f} \\nTest accuracy: {:.2f}%'.format(score[0], score[1]*100))"
      ],
      "metadata": {
        "colab": {
          "base_uri": "https://localhost:8080/",
          "height": 502
        },
        "id": "fYE0DRU0wh74",
        "outputId": "1e036632-9eab-4c58-c619-26f3b173fa8b"
      },
      "execution_count": null,
      "outputs": [
        {
          "output_type": "error",
          "ename": "OSError",
          "evalue": "ignored",
          "traceback": [
            "\u001b[0;31m---------------------------------------------------------------------------\u001b[0m",
            "\u001b[0;31mOSError\u001b[0m                                   Traceback (most recent call last)",
            "\u001b[0;32m<ipython-input-3-bd70e9c4a155>\u001b[0m in \u001b[0;36m<module>\u001b[0;34m()\u001b[0m\n\u001b[1;32m      1\u001b[0m \u001b[0;31m# store trained model weights\u001b[0m\u001b[0;34m\u001b[0m\u001b[0;34m\u001b[0m\u001b[0;34m\u001b[0m\u001b[0m\n\u001b[0;32m----> 2\u001b[0;31m \u001b[0mmodel\u001b[0m\u001b[0;34m.\u001b[0m\u001b[0msave_weights\u001b[0m\u001b[0;34m(\u001b[0m\u001b[0;34m'./tmp/cnn_weight.h5'\u001b[0m\u001b[0;34m)\u001b[0m\u001b[0;34m\u001b[0m\u001b[0;34m\u001b[0m\u001b[0m\n\u001b[0m\u001b[1;32m      3\u001b[0m \u001b[0;34m\u001b[0m\u001b[0m\n\u001b[1;32m      4\u001b[0m \u001b[0;31m# build evaluation model\u001b[0m\u001b[0;34m\u001b[0m\u001b[0;34m\u001b[0m\u001b[0;34m\u001b[0m\u001b[0m\n\u001b[1;32m      5\u001b[0m \u001b[0meval_model\u001b[0m \u001b[0;34m=\u001b[0m \u001b[0mmodel_fn\u001b[0m\u001b[0;34m(\u001b[0m\u001b[0minput_fn\u001b[0m\u001b[0;34m(\u001b[0m\u001b[0mx_test\u001b[0m\u001b[0;34m,\u001b[0m \u001b[0my_test\u001b[0m\u001b[0;34m,\u001b[0m \u001b[0mbatch_size\u001b[0m\u001b[0;34m=\u001b[0m\u001b[0mbatch_size\u001b[0m\u001b[0;34m,\u001b[0m \u001b[0mtraining\u001b[0m\u001b[0;34m=\u001b[0m\u001b[0;32mFalse\u001b[0m\u001b[0;34m)\u001b[0m\u001b[0;34m)\u001b[0m\u001b[0;34m\u001b[0m\u001b[0;34m\u001b[0m\u001b[0m\n",
            "\u001b[0;32m/usr/local/lib/python3.7/dist-packages/keras/utils/traceback_utils.py\u001b[0m in \u001b[0;36merror_handler\u001b[0;34m(*args, **kwargs)\u001b[0m\n\u001b[1;32m     65\u001b[0m     \u001b[0;32mexcept\u001b[0m \u001b[0mException\u001b[0m \u001b[0;32mas\u001b[0m \u001b[0me\u001b[0m\u001b[0;34m:\u001b[0m  \u001b[0;31m# pylint: disable=broad-except\u001b[0m\u001b[0;34m\u001b[0m\u001b[0;34m\u001b[0m\u001b[0m\n\u001b[1;32m     66\u001b[0m       \u001b[0mfiltered_tb\u001b[0m \u001b[0;34m=\u001b[0m \u001b[0m_process_traceback_frames\u001b[0m\u001b[0;34m(\u001b[0m\u001b[0me\u001b[0m\u001b[0;34m.\u001b[0m\u001b[0m__traceback__\u001b[0m\u001b[0;34m)\u001b[0m\u001b[0;34m\u001b[0m\u001b[0;34m\u001b[0m\u001b[0m\n\u001b[0;32m---> 67\u001b[0;31m       \u001b[0;32mraise\u001b[0m \u001b[0me\u001b[0m\u001b[0;34m.\u001b[0m\u001b[0mwith_traceback\u001b[0m\u001b[0;34m(\u001b[0m\u001b[0mfiltered_tb\u001b[0m\u001b[0;34m)\u001b[0m \u001b[0;32mfrom\u001b[0m \u001b[0;32mNone\u001b[0m\u001b[0;34m\u001b[0m\u001b[0;34m\u001b[0m\u001b[0m\n\u001b[0m\u001b[1;32m     68\u001b[0m     \u001b[0;32mfinally\u001b[0m\u001b[0;34m:\u001b[0m\u001b[0;34m\u001b[0m\u001b[0;34m\u001b[0m\u001b[0m\n\u001b[1;32m     69\u001b[0m       \u001b[0;32mdel\u001b[0m \u001b[0mfiltered_tb\u001b[0m\u001b[0;34m\u001b[0m\u001b[0;34m\u001b[0m\u001b[0m\n",
            "\u001b[0;32m/usr/local/lib/python3.7/dist-packages/h5py/_hl/files.py\u001b[0m in \u001b[0;36m__init__\u001b[0;34m(self, name, mode, driver, libver, userblock_size, swmr, rdcc_nslots, rdcc_nbytes, rdcc_w0, track_order, fs_strategy, fs_persist, fs_threshold, **kwds)\u001b[0m\n\u001b[1;32m    425\u001b[0m                                fapl, fcpl=make_fcpl(track_order=track_order, fs_strategy=fs_strategy,\n\u001b[1;32m    426\u001b[0m                                fs_persist=fs_persist, fs_threshold=fs_threshold),\n\u001b[0;32m--> 427\u001b[0;31m                                swmr=swmr)\n\u001b[0m\u001b[1;32m    428\u001b[0m \u001b[0;34m\u001b[0m\u001b[0m\n\u001b[1;32m    429\u001b[0m             \u001b[0;32mif\u001b[0m \u001b[0misinstance\u001b[0m\u001b[0;34m(\u001b[0m\u001b[0mlibver\u001b[0m\u001b[0;34m,\u001b[0m \u001b[0mtuple\u001b[0m\u001b[0;34m)\u001b[0m\u001b[0;34m:\u001b[0m\u001b[0;34m\u001b[0m\u001b[0;34m\u001b[0m\u001b[0m\n",
            "\u001b[0;32m/usr/local/lib/python3.7/dist-packages/h5py/_hl/files.py\u001b[0m in \u001b[0;36mmake_fid\u001b[0;34m(name, mode, userblock_size, fapl, fcpl, swmr)\u001b[0m\n\u001b[1;32m    194\u001b[0m         \u001b[0mfid\u001b[0m \u001b[0;34m=\u001b[0m \u001b[0mh5f\u001b[0m\u001b[0;34m.\u001b[0m\u001b[0mcreate\u001b[0m\u001b[0;34m(\u001b[0m\u001b[0mname\u001b[0m\u001b[0;34m,\u001b[0m \u001b[0mh5f\u001b[0m\u001b[0;34m.\u001b[0m\u001b[0mACC_EXCL\u001b[0m\u001b[0;34m,\u001b[0m \u001b[0mfapl\u001b[0m\u001b[0;34m=\u001b[0m\u001b[0mfapl\u001b[0m\u001b[0;34m,\u001b[0m \u001b[0mfcpl\u001b[0m\u001b[0;34m=\u001b[0m\u001b[0mfcpl\u001b[0m\u001b[0;34m)\u001b[0m\u001b[0;34m\u001b[0m\u001b[0;34m\u001b[0m\u001b[0m\n\u001b[1;32m    195\u001b[0m     \u001b[0;32melif\u001b[0m \u001b[0mmode\u001b[0m \u001b[0;34m==\u001b[0m \u001b[0;34m'w'\u001b[0m\u001b[0;34m:\u001b[0m\u001b[0;34m\u001b[0m\u001b[0;34m\u001b[0m\u001b[0m\n\u001b[0;32m--> 196\u001b[0;31m         \u001b[0mfid\u001b[0m \u001b[0;34m=\u001b[0m \u001b[0mh5f\u001b[0m\u001b[0;34m.\u001b[0m\u001b[0mcreate\u001b[0m\u001b[0;34m(\u001b[0m\u001b[0mname\u001b[0m\u001b[0;34m,\u001b[0m \u001b[0mh5f\u001b[0m\u001b[0;34m.\u001b[0m\u001b[0mACC_TRUNC\u001b[0m\u001b[0;34m,\u001b[0m \u001b[0mfapl\u001b[0m\u001b[0;34m=\u001b[0m\u001b[0mfapl\u001b[0m\u001b[0;34m,\u001b[0m \u001b[0mfcpl\u001b[0m\u001b[0;34m=\u001b[0m\u001b[0mfcpl\u001b[0m\u001b[0;34m)\u001b[0m\u001b[0;34m\u001b[0m\u001b[0;34m\u001b[0m\u001b[0m\n\u001b[0m\u001b[1;32m    197\u001b[0m     \u001b[0;32melif\u001b[0m \u001b[0mmode\u001b[0m \u001b[0;34m==\u001b[0m \u001b[0;34m'a'\u001b[0m\u001b[0;34m:\u001b[0m\u001b[0;34m\u001b[0m\u001b[0;34m\u001b[0m\u001b[0m\n\u001b[1;32m    198\u001b[0m         \u001b[0;31m# Open in append mode (read/write).\u001b[0m\u001b[0;34m\u001b[0m\u001b[0;34m\u001b[0m\u001b[0;34m\u001b[0m\u001b[0m\n",
            "\u001b[0;32mh5py/_objects.pyx\u001b[0m in \u001b[0;36mh5py._objects.with_phil.wrapper\u001b[0;34m()\u001b[0m\n",
            "\u001b[0;32mh5py/_objects.pyx\u001b[0m in \u001b[0;36mh5py._objects.with_phil.wrapper\u001b[0;34m()\u001b[0m\n",
            "\u001b[0;32mh5py/h5f.pyx\u001b[0m in \u001b[0;36mh5py.h5f.create\u001b[0;34m()\u001b[0m\n",
            "\u001b[0;31mOSError\u001b[0m: Unable to create file (unable to open file: name = './tmp/cnn_weight.h5', errno = 2, error message = 'No such file or directory', flags = 13, o_flags = 242)"
          ]
        }
      ]
    },
    {
      "cell_type": "markdown",
      "source": [
        "From the code block above, observe how the network layers are implemented in Keras:\n",
        "\n",
        "* Convolutional layer - tf.keras.layers.Conv2D()\n",
        "* Batch Normalization - tf.keras.layers.BatchNormalization()\n",
        "* Max Pooling layer - tf.keras.layers.MaxPooling2D()\n",
        "* Dropout layer - tf.keras.layers.Dropout()\n",
        "* Fully connected or Dense layer - tf.keras.layers.Dense()"
      ],
      "metadata": {
        "id": "XDV87o8Dwr9P"
      }
    }
  ]
}